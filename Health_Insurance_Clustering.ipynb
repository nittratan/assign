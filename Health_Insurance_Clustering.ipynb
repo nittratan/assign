{
 "cells": [
  {
   "cell_type": "code",
   "execution_count": null,
   "id": "90a07abb",
   "metadata": {},
   "outputs": [],
   "source": [
    "# Health Insurance Clustering using K-Means and Hierarchical Clustering\n",
    "\n",
    "# Import necessary libraries\n",
    "import pandas as pd\n",
    "import numpy as np\n",
    "import matplotlib.pyplot as plt\n",
    "import seaborn as sns\n",
    "\n"
   ]
  },
  {
   "cell_type": "code",
   "execution_count": null,
   "id": "52ac6176",
   "metadata": {},
   "outputs": [],
   "source": [
    "from sklearn.preprocessing import StandardScaler, LabelEncoder\n",
    "from sklearn.cluster import KMeans, AgglomerativeClustering\n",
    "from sklearn.metrics import silhouette_score\n",
    "from sklearn.decomposition import PCA\n",
    "from scipy.cluster.hierarchy import dendrogram, linkage\n"
   ]
  },
  {
   "cell_type": "code",
   "execution_count": null,
   "id": "bd95be59",
   "metadata": {},
   "outputs": [],
   "source": [
    "df = pd.read_csv('insurance.csv')"
   ]
  },
  {
   "cell_type": "code",
   "execution_count": null,
   "id": "8b7d9aa1",
   "metadata": {},
   "outputs": [],
   "source": [
    "# Convert categorical features into numerical using Label Encoding\n",
    "le = LabelEncoder()\n",
    "df['sex'] = le.fit_transform(df['sex'])\n",
    "df['smoker'] = le.fit_transform(df['smoker'])\n",
    "df['region'] = le.fit_transform(df['region'])"
   ]
  },
  {
   "cell_type": "code",
   "execution_count": null,
   "id": "d22a7995",
   "metadata": {},
   "outputs": [],
   "source": [
    "#  Select features for clustering\n",
    "features = ['age', 'sex', 'bmi', 'children', 'smoker', 'region', 'charges']\n",
    "X = df[features]"
   ]
  },
  {
   "cell_type": "code",
   "execution_count": null,
   "id": "f795bf83",
   "metadata": {},
   "outputs": [],
   "source": [
    "# Scale the features\n",
    "# Standardize features to bring them to the same scale\n",
    "scaler = StandardScaler()\n",
    "X_scaled = scaler.fit_transform(X)"
   ]
  },
  {
   "cell_type": "code",
   "execution_count": null,
   "id": "9203ddf0",
   "metadata": {},
   "outputs": [],
   "source": [
    "# Determine the optimal number of clusters using Elbow and Silhouette methods\n",
    "inertia = []  # Elbow method (Sum of Squared Distances)\n",
    "silhouette = []  # Silhouette scores for cluster validity\n",
    "K = range(2, 11)\n",
    "\n",
    "for k in K:\n",
    "    kmeans = KMeans(n_clusters=k, random_state=42)\n",
    "    kmeans.fit(X_scaled)\n",
    "    inertia.append(kmeans.inertia_)\n",
    "    silhouette.append(silhouette_score(X_scaled, kmeans.labels_))\n"
   ]
  },
  {
   "cell_type": "code",
   "execution_count": null,
   "id": "d8d3872f",
   "metadata": {},
   "outputs": [],
   "source": [
    "# Plot Elbow Method and Silhouette Scores to find optimal K\n",
    "plt.figure(figsize=(10, 4))\n",
    "\n",
    "plt.subplot(1, 2, 1)\n",
    "plt.plot(K, inertia, 'bo-')\n",
    "plt.xlabel('Number of clusters')\n",
    "plt.ylabel('Inertia')\n",
    "plt.title('Elbow Method')\n",
    "\n",
    "plt.subplot(1, 2, 2)\n",
    "plt.plot(K, silhouette, 'ro-')\n",
    "plt.xlabel('Number of clusters')\n",
    "plt.ylabel('Silhouette Score')\n",
    "plt.title('Silhouette Score')\n",
    "\n",
    "plt.tight_layout()\n",
    "plt.show()"
   ]
  },
  {
   "cell_type": "code",
   "execution_count": null,
   "id": "2ece634e",
   "metadata": {},
   "outputs": [],
   "source": [
    "# Choose optimal K based on Elbow/Silhouette (assumed to be K=3 from plots)\n",
    "optimal_k = 3\n",
    "\n",
    "# Apply KMeans Clustering\n",
    "kmeans = KMeans(n_clusters=optimal_k, random_state=42)\n",
    "df['kmeans_cluster'] = kmeans.fit_predict(X_scaled)\n",
    "\n",
    "# Apply Hierarchical Agglomerative Clustering\n",
    "agglo = AgglomerativeClustering(n_clusters=optimal_k)\n",
    "df['agglo_cluster'] = agglo.fit_predict(X_scaled)\n",
    "\n",
    "# Visualize clusters using PCA (2D projection)\n",
    "pca = PCA(n_components=2)\n",
    "X_pca = pca.fit_transform(X_scaled)\n",
    "\n",
    "plt.figure(figsize=(12, 5))\n"
   ]
  },
  {
   "cell_type": "code",
   "execution_count": null,
   "id": "38d40eee",
   "metadata": {},
   "outputs": [],
   "source": [
    "# K-Means Clusters Visualization\n",
    "plt.subplot(1, 2, 1)\n",
    "sns.scatterplot(x=X_pca[:, 0], y=X_pca[:, 1], hue=df['kmeans_cluster'], palette='Set1')\n",
    "plt.title('K-Means Clustering')\n",
    "plt.xlabel('PCA Component 1')\n",
    "plt.ylabel('PCA Component 2')\n"
   ]
  },
  {
   "cell_type": "code",
   "execution_count": null,
   "id": "89956146",
   "metadata": {},
   "outputs": [],
   "source": [
    "# Hierarchical Clustering Visualization\n",
    "plt.subplot(1, 2, 2)\n",
    "sns.scatterplot(x=X_pca[:, 0], y=X_pca[:, 1], hue=df['agglo_cluster'], palette='Set2')\n",
    "plt.title('Hierarchical Clustering')\n",
    "plt.xlabel('PCA Component 1')\n",
    "plt.ylabel('PCA Component 2')\n",
    "\n",
    "plt.tight_layout()\n",
    "plt.show()\n"
   ]
  },
  {
   "cell_type": "code",
   "execution_count": null,
   "id": "6221ad6a",
   "metadata": {},
   "outputs": [],
   "source": [
    "# Interpret the Clusters\n",
    "# Analyze average feature values in each cluster\n",
    "print(\"\\nK-Means Cluster Summary:\")\n",
    "kmeans_summary = df.groupby('kmeans_cluster')[features].mean()\n",
    "print(kmeans_summary)\n",
    "\n",
    "print(\"\\nHierarchical Cluster Summary:\")\n",
    "agglo_summary = df.groupby('agglo_cluster')[features].mean()\n",
    "print(agglo_summary)"
   ]
  }
 ],
 "metadata": {
  "language_info": {
   "name": "python"
  }
 },
 "nbformat": 4,
 "nbformat_minor": 5
}
