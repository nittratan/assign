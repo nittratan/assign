{
 "cells": [
  {
   "cell_type": "code",
   "execution_count": null,
   "id": "e27dc51b",
   "metadata": {
    "vscode": {
     "languageId": "plaintext"
    }
   },
   "outputs": [],
   "source": [
    "import pandas as pd\n",
    "import numpy as np\n",
    "import statsmodels.api as sm\n",
    "from statsmodels.regression.quantile_regression import QuantReg\n",
    "import matplotlib.pyplot as plt"
   ]
  },
  {
   "cell_type": "code",
   "execution_count": null,
   "id": "b224b686",
   "metadata": {
    "vscode": {
     "languageId": "plaintext"
    }
   },
   "outputs": [],
   "source": [
    "df = pd.read_csv('healthinsurance.csv')"
   ]
  },
  {
   "cell_type": "code",
   "execution_count": null,
   "id": "a9f5caf3",
   "metadata": {
    "vscode": {
     "languageId": "plaintext"
    }
   },
   "outputs": [],
   "source": [
    "# Preprocessing the data\n",
    "# - Handling missing values, if any (assumed here no missing values)\n",
    "# - Convert categorical variables to dummy variables for regression\n",
    "\n",
    "# Convert categorical columns ('smoker', 'city', 'job_title') to dummy variables\n",
    "df = pd.get_dummies(df, columns=['smoker', 'city', 'job_title'], drop_first=True)\n",
    "\n",
    "# Step 3: Split into features (X) and target (y)\n",
    "# Features include all columns except the target variable ('claim')\n",
    "features = ['age', 'sex', 'weight', 'bmi', 'hereditary_diseases', 'no_of_dependents', 'bloodpressure', 'diabetes', 'regular_ex',\n",
    "            'smoker_yes', 'city_2', 'city_3', 'job_title_2', 'job_title_3', 'job_title_4']\n",
    "target = 'claim'\n",
    "\n",
    "X = df[features]  # Features\n",
    "X = sm.add_constant(X)  # Adding a constant term (bias) to the model\n",
    "y = df[target]  # Target variable (claim)"
   ]
  },
  {
   "cell_type": "code",
   "execution_count": null,
   "id": "d77ec602",
   "metadata": {
    "vscode": {
     "languageId": "plaintext"
    }
   },
   "outputs": [],
   "source": [
    "# Fit the Quantile Regression Models for 50th and 90th quantiles\n",
    "\n",
    "# 50th quantile (Median) model\n",
    "model_50th = QuantReg(y, X)\n",
    "result_50th = model_50th.fit(q=0.50)\n",
    "print(\"50th Quantile Regression Summary:\")\n",
    "print(result_50th.summary())\n",
    "\n",
    "# 90th quantile model\n",
    "model_90th = QuantReg(y, X)\n",
    "result_90th = model_90th.fit(q=0.90)\n",
    "print(\"90th Quantile Regression Summary:\")\n",
    "print(result_90th.summary())"
   ]
  },
  {
   "cell_type": "code",
   "execution_count": null,
   "id": "cfce4792",
   "metadata": {
    "vscode": {
     "languageId": "plaintext"
    }
   },
   "outputs": [],
   "source": [
    "# Make predictions using the models on the same dataset\n",
    "y_pred_50th = result_50th.predict(X)\n",
    "y_pred_90th = result_90th.predict(X)"
   ]
  },
  {
   "cell_type": "code",
   "execution_count": null,
   "id": "dde95c30",
   "metadata": {
    "vscode": {
     "languageId": "plaintext"
    }
   },
   "outputs": [],
   "source": [
    "# Flag outliers where actual values are higher than predictions for both 50th and 90th quantiles\n",
    "outliers_50th = df[y > y_pred_50th]\n",
    "outliers_90th = df[y > y_pred_90th]\n",
    "\n",
    "# Flagging the outliers\n",
    "df['outlier_50th'] = df[target] > y_pred_50th\n",
    "df['outlier_90th'] = df[target] > y_pred_90th"
   ]
  },
  {
   "cell_type": "code",
   "execution_count": null,
   "id": "40cecdb9",
   "metadata": {
    "vscode": {
     "languageId": "plaintext"
    }
   },
   "outputs": [],
   "source": [
    "# Compare outliers with other data points (Visualization)\n",
    "plt.figure(figsize=(12, 6))\n",
    "\n",
    "# Scatter plot of actual vs predicted for 50th quantile\n",
    "plt.subplot(1, 2, 1)\n",
    "plt.scatter(y, y_pred_50th, label='Actual vs Predicted (50th Quantile)', color='blue')\n",
    "plt.xlabel('Actual Claims')\n",
    "plt.ylabel('Predicted Claims (50th Quantile)')\n",
    "plt.title('50th Quantile Prediction')\n",
    "plt.grid(True)\n",
    "\n",
    "# Scatter plot of actual vs predicted for 90th quantile\n",
    "plt.subplot(1, 2, 2)\n",
    "plt.scatter(y, y_pred_90th, label='Actual vs Predicted (90th Quantile)', color='red')\n",
    "plt.xlabel('Actual Claims')\n",
    "plt.ylabel('Predicted Claims (90th Quantile)')\n",
    "plt.title('90th Quantile Prediction')\n",
    "plt.grid(True)\n",
    "\n",
    "plt.tight_layout()\n",
    "plt.show()\n"
   ]
  },
  {
   "cell_type": "code",
   "execution_count": null,
   "id": "c51724e2",
   "metadata": {
    "vscode": {
     "languageId": "plaintext"
    }
   },
   "outputs": [],
   "source": [
    "# Output the flagged outliers\n",
    "print(\"Outliers flagged based on 50th Quantile predictions:\")\n",
    "print(outliers_50th)\n",
    "\n",
    "print(\"Outliers flagged based on 90th Quantile predictions:\")\n",
    "print(outliers_90th)\n"
   ]
  }
 ],
 "metadata": {
  "language_info": {
   "name": "python"
  }
 },
 "nbformat": 4,
 "nbformat_minor": 5
}
